{
 "cells": [
  {
   "cell_type": "code",
   "execution_count": null,
   "id": "02e387ea",
   "metadata": {},
   "outputs": [],
   "source": [
    "## Find the way with Maps"
   ]
  },
  {
   "cell_type": "code",
   "execution_count": 1,
   "id": "3c887f53",
   "metadata": {},
   "outputs": [
    {
     "name": "stdout",
     "output_type": "stream",
     "text": [
      "Original list:  (1, 2, 3, 4, 5, 6, 7)\n",
      "\n",
      "Triple of said list numbers:\n",
      "[3, 6, 9, 12, 15, 18, 21]\n"
     ]
    }
   ],
   "source": [
    "list1 = (1, 2, 3, 4, 5, 6, 7)                  # input list\n",
    "result = map(lambda x: x + x + x, list1)          # Adding the given number three times using maps and lambda \n",
    "print(\"Original list: \", list1)                  # original list to be print\n",
    "print(\"\\nTriple of said list numbers:\")             \n",
    "print(list(result))                             # final list that each number is added thrice\n"
   ]
  },
  {
   "cell_type": "markdown",
   "id": "3e0e11cb",
   "metadata": {},
   "source": [
    "# Test Cases"
   ]
  },
  {
   "cell_type": "code",
   "execution_count": 2,
   "id": "c22d148d",
   "metadata": {},
   "outputs": [
    {
     "name": "stdout",
     "output_type": "stream",
     "text": [
      "Original list:  (-2, 2, 3, 10, 5, -6, 7)\n",
      "\n",
      "Triple of said list numbers:\n",
      "[-6, 6, 9, 30, 15, -18, 21]\n"
     ]
    }
   ],
   "source": [
    "num = (-2, 2, 3, 10, 5, -6, 7) \n",
    "result = map(lambda x: x + x + x, num) \n",
    "print(\"Original list: \", num)\n",
    "print(\"\\nTriple of said list numbers:\")\n",
    "print(list(result))"
   ]
  },
  {
   "cell_type": "code",
   "execution_count": null,
   "id": "d1ab48b7",
   "metadata": {},
   "outputs": [],
   "source": []
  }
 ],
 "metadata": {
  "kernelspec": {
   "display_name": "Python 3 (ipykernel)",
   "language": "python",
   "name": "python3"
  },
  "language_info": {
   "codemirror_mode": {
    "name": "ipython",
    "version": 3
   },
   "file_extension": ".py",
   "mimetype": "text/x-python",
   "name": "python",
   "nbconvert_exporter": "python",
   "pygments_lexer": "ipython3",
   "version": "3.10.1"
  }
 },
 "nbformat": 4,
 "nbformat_minor": 5
}
